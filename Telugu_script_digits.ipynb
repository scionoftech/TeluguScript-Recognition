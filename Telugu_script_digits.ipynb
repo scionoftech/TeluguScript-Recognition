{
 "cells": [
  {
   "cell_type": "markdown",
   "metadata": {
    "colab_type": "text",
    "id": "Tc4FoEagMzHg"
   },
   "source": [
    "## Telugu Script - Digits Recognition"
   ]
  },
  {
   "cell_type": "markdown",
   "metadata": {
    "colab_type": "text",
    "id": "IZ8S-VLcvWil"
   },
   "source": [
    "https://en.wikipedia.org/wiki/Telugu_script"
   ]
  },
  {
   "cell_type": "markdown",
   "metadata": {
    "colab_type": "text",
    "id": "ct-HdffLMyql"
   },
   "source": [
    "Telugu script, an abugida from the Brahmic family of scripts, is used to write the Telugu language, a Dravidian language spoken in the Indian states of Andhra Pradesh and Telangana as well as several other neighbouring states."
   ]
  },
  {
   "cell_type": "code",
   "execution_count": 2,
   "metadata": {
    "colab": {
     "base_uri": "https://localhost:8080/",
     "height": 34
    },
    "colab_type": "code",
    "id": "YaKAKU7yBWid",
    "outputId": "3181bba5-a3ef-4cef-ae86-6718e70d86bc"
   },
   "outputs": [
    {
     "name": "stdout",
     "output_type": "stream",
     "text": [
      "Drive already mounted at /content/drive; to attempt to forcibly remount, call drive.mount(\"/content/drive\", force_remount=True).\n"
     ]
    }
   ],
   "source": [
    "from google.colab import drive\n",
    "drive.mount('/content/drive')"
   ]
  },
  {
   "cell_type": "code",
   "execution_count": 3,
   "metadata": {
    "colab": {
     "base_uri": "https://localhost:8080/",
     "height": 34
    },
    "colab_type": "code",
    "id": "vAqnShVRAb8q",
    "outputId": "b526e63e-2ef5-4bb4-9586-0c6bf8f6e9b3"
   },
   "outputs": [
    {
     "name": "stderr",
     "output_type": "stream",
     "text": [
      "Using TensorFlow backend.\n"
     ]
    }
   ],
   "source": [
    "# Importing all necessary libraries \n",
    "from sklearn.model_selection import train_test_split\n",
    "from keras.models import Sequential,Model\n",
    "from keras.utils.np_utils import to_categorical\n",
    "from keras.preprocessing.image import ImageDataGenerator\n",
    "from sklearn.model_selection import train_test_split\n",
    "from keras.models import Sequential\n",
    "from keras.layers import Dense, Dropout, Flatten,BatchNormalization,Input\n",
    "from keras.layers import Conv2D, MaxPooling2D\n",
    "from keras import backend as K\n",
    "from keras.layers import Activation, Dense\n",
    "from keras import optimizers\n",
    "from keras.layers import Flatten\n",
    "import tensorflow as tf\n",
    "import glob\n",
    "from PIL import Image\n",
    "import numpy as np\n",
    "import matplotlib.pyplot as plt\n",
    "%matplotlib inline\n",
    "from numpy import expand_dims"
   ]
  },
  {
   "cell_type": "code",
   "execution_count": 0,
   "metadata": {
    "colab": {},
    "colab_type": "code",
    "id": "cGqW47m9Ab85"
   },
   "outputs": [],
   "source": [
    "# get images from drive\n",
    "images = glob.glob(\"/content/drive/My Drive/DLCP/telugu_script/numerals\"+\"/*.png\")"
   ]
  },
  {
   "cell_type": "code",
   "execution_count": 0,
   "metadata": {
    "colab": {},
    "colab_type": "code",
    "id": "_MJWIr7NAb9A"
   },
   "outputs": [],
   "source": [
    "# sort images \n",
    "images.sort()"
   ]
  },
  {
   "cell_type": "code",
   "execution_count": 6,
   "metadata": {
    "colab": {
     "base_uri": "https://localhost:8080/",
     "height": 187
    },
    "colab_type": "code",
    "id": "cXssBiwLAb9E",
    "outputId": "6c7ec4c7-022e-432e-c2f3-efeabc31898b"
   },
   "outputs": [
    {
     "data": {
      "text/plain": [
       "['/content/drive/My Drive/DLCP/telugu_script/numerals/0.png',\n",
       " '/content/drive/My Drive/DLCP/telugu_script/numerals/1.png',\n",
       " '/content/drive/My Drive/DLCP/telugu_script/numerals/2.png',\n",
       " '/content/drive/My Drive/DLCP/telugu_script/numerals/3.png',\n",
       " '/content/drive/My Drive/DLCP/telugu_script/numerals/4.png',\n",
       " '/content/drive/My Drive/DLCP/telugu_script/numerals/5.png',\n",
       " '/content/drive/My Drive/DLCP/telugu_script/numerals/6.png',\n",
       " '/content/drive/My Drive/DLCP/telugu_script/numerals/7.png',\n",
       " '/content/drive/My Drive/DLCP/telugu_script/numerals/8.png',\n",
       " '/content/drive/My Drive/DLCP/telugu_script/numerals/9.png']"
      ]
     },
     "execution_count": 6,
     "metadata": {
      "tags": []
     },
     "output_type": "execute_result"
    }
   ],
   "source": [
    "images"
   ]
  },
  {
   "cell_type": "code",
   "execution_count": 0,
   "metadata": {
    "colab": {},
    "colab_type": "code",
    "id": "-keGeXEvAb9I"
   },
   "outputs": [],
   "source": [
    "# convert images to grayscale and resize to 28X28\n",
    "images_array = []\n",
    "for img in images:\n",
    "    img = Image.open(img)\n",
    "    # img = img.convert('RGB')\n",
    "    img = img.convert('L')\n",
    "    img = img.resize((28,28), Image.ANTIALIAS)\n",
    "    images_array.append(np.array(img))\n",
    "images_array = np.array(images_array)"
   ]
  },
  {
   "cell_type": "code",
   "execution_count": 8,
   "metadata": {
    "colab": {
     "base_uri": "https://localhost:8080/",
     "height": 98
    },
    "colab_type": "code",
    "id": "-DnF0GlQAb9V",
    "outputId": "ee7d4f62-a5cf-4826-cdb8-c53b077d420f"
   },
   "outputs": [
    {
     "data": {
      "image/png": "[encoded data removed]",
      "text/plain": [
       "<Figure size 720x72 with 10 Axes>"
      ]
     },
     "metadata": {
      "tags": []
     },
     "output_type": "display_data"
    }
   ],
   "source": [
    "# plot images\n",
    "plt.figure(figsize=(10, 1))\n",
    "for i in range(10):\n",
    "    plt.subplot(1,10,i+1)\n",
    "    plt.imshow(images_array[i],cmap=\"gray\")\n",
    "    plt.axis(\"off\")"
   ]
  },
  {
   "cell_type": "code",
   "execution_count": 0,
   "metadata": {
    "colab": {},
    "colab_type": "code",
    "id": "4Y51ecoYAb9c"
   },
   "outputs": [],
   "source": [
    "# create a large dataset with duplicates \n",
    "final_array = []\n",
    "labels_array = []\n",
    "for i,img in enumerate(images_array):\n",
    "    for j in range(10000):\n",
    "        final_array.append(img)\n",
    "        labels_array.append(i)\n",
    "final_array = np.array(final_array)\n",
    "labels_array = np.array(labels_array)"
   ]
  },
  {
   "cell_type": "code",
   "execution_count": 0,
   "metadata": {
    "colab": {},
    "colab_type": "code",
    "id": "jZhY6oJvAb9t"
   },
   "outputs": [],
   "source": [
    "# split the dataset into train and test\n",
    "trainX,testX,trainy,testy = train_test_split(final_array,labels_array,shuffle=True)"
   ]
  },
  {
   "cell_type": "code",
   "execution_count": 0,
   "metadata": {
    "colab": {},
    "colab_type": "code",
    "id": "R5icTKlJAb9x"
   },
   "outputs": [],
   "source": [
    "# reshape to be [samples][width][height][channels]\n",
    "X_train = trainX.reshape((trainX.shape[0], 28, 28, 1)).astype('float32')\n",
    "X_test = testX.reshape((testX.shape[0], 28, 28, 1)).astype('float32')\n",
    "# X_train = trainX.reshape(-1,28,28,1)\n",
    "# X_test = testX.reshape(-1,28,28,1)\n",
    "\n",
    "# normalize inputs from 0-255 to 0-1\n",
    "X_train = X_train / 255\n",
    "X_test = X_test / 255\n",
    "\n",
    "# convert\n",
    "Y_train = tf.keras.utils.to_categorical(trainy, num_classes=10)\n",
    "Y_test = tf.keras.utils.to_categorical(testy, num_classes=10)"
   ]
  },
  {
   "cell_type": "code",
   "execution_count": 12,
   "metadata": {
    "colab": {
     "base_uri": "https://localhost:8080/",
     "height": 34
    },
    "colab_type": "code",
    "id": "aijVAzC8UmJg",
    "outputId": "71f5fe80-cfe3-4142-f59d-0140762670be"
   },
   "outputs": [
    {
     "name": "stdout",
     "output_type": "stream",
     "text": [
      "(75000, 28, 28, 1) (25000, 28, 28, 1) (75000, 10) (25000, 10)\n"
     ]
    }
   ],
   "source": [
    "print(X_train.shape, X_test.shape, Y_train.shape, Y_test.shape)"
   ]
  },
  {
   "cell_type": "markdown",
   "metadata": {
    "colab_type": "text",
    "id": "gugWXryEck8V"
   },
   "source": [
    "## Image agumentation"
   ]
  },
  {
   "cell_type": "code",
   "execution_count": 13,
   "metadata": {
    "colab": {
     "base_uri": "https://localhost:8080/",
     "height": 71
    },
    "colab_type": "code",
    "id": "Ne_x6jq8aFCi",
    "outputId": "4aae09f7-05dd-48c8-9c2b-a0c4957dcbed"
   },
   "outputs": [
    {
     "name": "stderr",
     "output_type": "stream",
     "text": [
      "/usr/local/lib/python3.6/dist-packages/keras_preprocessing/image/image_data_generator.py:341: UserWarning: This ImageDataGenerator specifies `zca_whitening` which overrides setting of`featurewise_std_normalization`.\n",
      "  warnings.warn('This ImageDataGenerator specifies '\n"
     ]
    }
   ],
   "source": [
    "train_image_gen = ImageDataGenerator(\n",
    "    featurewise_center=True,\n",
    "    featurewise_std_normalization=True,\n",
    "    zca_whitening=True,\n",
    "    rotation_range=90,\n",
    "    horizontal_flip=True, \n",
    "    vertical_flip=True,\n",
    "    # rescale=1./255,\n",
    "    width_shift_range=0.2,\n",
    "    height_shift_range=0.2)\n",
    "test_image_gen = ImageDataGenerator(\n",
    "    featurewise_center=True,\n",
    "    featurewise_std_normalization=True,\n",
    "    zca_whitening=True,\n",
    "    rotation_range=90,\n",
    "    horizontal_flip=True, \n",
    "    vertical_flip=True,\n",
    "    # rescale=1./255,\n",
    "    width_shift_range=0.2,\n",
    "    height_shift_range=0.2)\n",
    "\n",
    "train_image_gen.fit(X_train, augment=True)\n",
    "test_image_gen.fit(X_test, augment=True)"
   ]
  },
  {
   "cell_type": "code",
   "execution_count": 14,
   "metadata": {
    "colab": {
     "base_uri": "https://localhost:8080/",
     "height": 269
    },
    "colab_type": "code",
    "id": "tGq4CYq0Ab-F",
    "outputId": "0c155baf-3a2b-44d9-954c-b92be3e2a95c"
   },
   "outputs": [
    {
     "data": {
      "image/png": "[encoded data removed]",
      "text/plain": [
       "<Figure size 432x288 with 9 Axes>"
      ]
     },
     "metadata": {
      "tags": []
     },
     "output_type": "display_data"
    }
   ],
   "source": [
    "# plot images\n",
    "for X_batch, y_batch in train_image_gen.flow(X_train, trainy, batch_size=9):\n",
    "    # create a grid of 3x3 images\n",
    "    for i in range(0, 9):\n",
    "        plt.subplot(330 + 1 + i)\n",
    "        plt.imshow(X_batch[i].reshape(28, 28), cmap=plt.get_cmap('gray'))\n",
    "    # show the plot\n",
    "    plt.show()\n",
    "    break"
   ]
  },
  {
   "cell_type": "code",
   "execution_count": 0,
   "metadata": {
    "colab": {},
    "colab_type": "code",
    "id": "0aSxstldAb-K"
   },
   "outputs": [],
   "source": [
    "# lets set epochs and batch_size values\n",
    "epochs = 10\n",
    "batch_size = 128"
   ]
  },
  {
   "cell_type": "markdown",
   "metadata": {
    "colab_type": "text",
    "id": "tsaKyciRbTcV"
   },
   "source": [
    "## CNN"
   ]
  },
  {
   "cell_type": "code",
   "execution_count": 16,
   "metadata": {
    "colab": {
     "base_uri": "https://localhost:8080/",
     "height": 734
    },
    "colab_type": "code",
    "id": "btzbX01AoKtm",
    "outputId": "c3567f2d-7dbf-415b-a177-da4bb2d39184"
   },
   "outputs": [
    {
     "name": "stdout",
     "output_type": "stream",
     "text": [
      "WARNING:tensorflow:From /usr/local/lib/python3.6/dist-packages/tensorflow/python/ops/init_ops.py:1251: calling VarianceScaling.__init__ (from tensorflow.python.ops.init_ops) with dtype is deprecated and will be removed in a future version.\n",
      "Instructions for updating:\n",
      "Call initializer instance with the dtype argument instead of passing it to the constructor\n",
      "Model: \"sequential\"\n",
      "_________________________________________________________________\n",
      "Layer (type)                 Output Shape              Param #   \n",
      "=================================================================\n",
      "conv2d (Conv2D)              (None, 27, 27, 128)       640       \n",
      "_________________________________________________________________\n",
      "max_pooling2d (MaxPooling2D) (None, 13, 13, 128)       0         \n",
      "_________________________________________________________________\n",
      "batch_normalization (BatchNo (None, 13, 13, 128)       512       \n",
      "_________________________________________________________________\n",
      "conv2d_1 (Conv2D)            (None, 12, 12, 64)        32832     \n",
      "_________________________________________________________________\n",
      "max_pooling2d_1 (MaxPooling2 (None, 6, 6, 64)          0         \n",
      "_________________________________________________________________\n",
      "batch_normalization_1 (Batch (None, 6, 6, 64)          256       \n",
      "_________________________________________________________________\n",
      "conv2d_2 (Conv2D)            (None, 5, 5, 32)          8224      \n",
      "_________________________________________________________________\n",
      "max_pooling2d_2 (MaxPooling2 (None, 2, 2, 32)          0         \n",
      "_________________________________________________________________\n",
      "batch_normalization_2 (Batch (None, 2, 2, 32)          128       \n",
      "_________________________________________________________________\n",
      "flatten (Flatten)            (None, 128)               0         \n",
      "_________________________________________________________________\n",
      "dense (Dense)                (None, 64)                8256      \n",
      "_________________________________________________________________\n",
      "dropout (Dropout)            (None, 64)                0         \n",
      "_________________________________________________________________\n",
      "dense_1 (Dense)              (None, 32)                2080      \n",
      "_________________________________________________________________\n",
      "batch_normalization_3 (Batch (None, 32)                128       \n",
      "_________________________________________________________________\n",
      "dense_2 (Dense)              (None, 10)                330       \n",
      "=================================================================\n",
      "Total params: 53,386\n",
      "Trainable params: 52,874\n",
      "Non-trainable params: 512\n",
      "_________________________________________________________________\n"
     ]
    }
   ],
   "source": [
    "model = tf.keras.models.Sequential()\n",
    "# model.add(tf.keras.layers.Reshape((784,),input_shape=(28,28)))\n",
    "# model.add(tf.keras.layers.Reshape((28,28,1),input_shape=(28,28)))\n",
    "model.add(tf.keras.layers.Conv2D(128,kernel_size=(2,2), input_shape =(28,28,1), activation=\"relu\"))\n",
    "model.add(tf.keras.layers.MaxPooling2D(pool_size =(2,2)))\n",
    "model.add(tf.keras.layers.BatchNormalization())\n",
    "\n",
    "model.add(tf.keras.layers.Conv2D(64,kernel_size=(2,2), activation=\"relu\"))\n",
    "model.add(tf.keras.layers.MaxPooling2D(pool_size =(2,2)))\n",
    "model.add(tf.keras.layers.BatchNormalization())\n",
    "\n",
    "model.add(tf.keras.layers.Conv2D(32,kernel_size=(2,2), activation=\"relu\"))\n",
    "model.add(tf.keras.layers.MaxPooling2D(pool_size =(2,2)))\n",
    "model.add(tf.keras.layers.BatchNormalization())\n",
    "\n",
    "model.add(tf.keras.layers.Flatten())\n",
    "model.add(tf.keras.layers.Dense(64, activation=\"relu\"))\n",
    "model.add(tf.keras.layers.Dropout(0.2))\n",
    "model.add(tf.keras.layers.Dense(32,kernel_regularizer = tf.keras.regularizers.l2(0.01), activation=\"relu\"))\n",
    "model.add(tf.keras.layers.BatchNormalization())\n",
    "model.add(tf.keras.layers.Dense(10,activation=\"softmax\"))\n",
    "model.summary()"
   ]
  },
  {
   "cell_type": "code",
   "execution_count": 0,
   "metadata": {
    "colab": {},
    "colab_type": "code",
    "id": "ap2roeumAb-Q"
   },
   "outputs": [],
   "source": [
    "# Build CNN\n",
    "model.compile(loss='categorical_crossentropy', optimizer='sgd', metrics=['accuracy'])"
   ]
  },
  {
   "cell_type": "code",
   "execution_count": 18,
   "metadata": {
    "colab": {
     "base_uri": "https://localhost:8080/",
     "height": 1000
    },
    "colab_type": "code",
    "id": "K8ZHj52DLkzZ",
    "outputId": "4a534cd5-b64a-4984-da40-225cde5eece0"
   },
   "outputs": [
    {
     "name": "stdout",
     "output_type": "stream",
     "text": [
      "Epoch 1/30\n",
      "585/585 [============================>.] - ETA: 0s - loss: 1.8902 - acc: 0.4576\n",
      "Epoch 00001: val_acc improved from -inf to 0.73080, saving model to /content/drive/My Drive/DLCP/telugu_script/tdigits_model.h5\n",
      "586/585 [==============================] - 84s 144ms/step - loss: 1.8888 - acc: 0.4581 - val_loss: 1.1407 - val_acc: 0.7308\n",
      "Epoch 2/30\n",
      "585/585 [============================>.] - ETA: 0s - loss: 0.9467 - acc: 0.7655\n",
      "Epoch 00002: val_acc improved from 0.73080 to 0.85260, saving model to /content/drive/My Drive/DLCP/telugu_script/tdigits_model.h5\n",
      "586/585 [==============================] - 80s 136ms/step - loss: 0.9464 - acc: 0.7656 - val_loss: 0.6694 - val_acc: 0.8526\n",
      "Epoch 3/30\n",
      "585/585 [============================>.] - ETA: 0s - loss: 0.6569 - acc: 0.8352\n",
      "Epoch 00003: val_acc improved from 0.85260 to 0.87732, saving model to /content/drive/My Drive/DLCP/telugu_script/tdigits_model.h5\n",
      "586/585 [==============================] - 79s 135ms/step - loss: 0.6567 - acc: 0.8353 - val_loss: 0.5111 - val_acc: 0.8773\n",
      "Epoch 4/30\n",
      "585/585 [============================>.] - ETA: 0s - loss: 0.5137 - acc: 0.8657\n",
      "Epoch 00004: val_acc improved from 0.87732 to 0.90108, saving model to /content/drive/My Drive/DLCP/telugu_script/tdigits_model.h5\n",
      "586/585 [==============================] - 77s 131ms/step - loss: 0.5135 - acc: 0.8658 - val_loss: 0.4080 - val_acc: 0.9011\n",
      "Epoch 5/30\n",
      "585/585 [============================>.] - ETA: 0s - loss: 0.4264 - acc: 0.8831\n",
      "Epoch 00005: val_acc improved from 0.90108 to 0.90828, saving model to /content/drive/My Drive/DLCP/telugu_script/tdigits_model.h5\n",
      "586/585 [==============================] - 76s 130ms/step - loss: 0.4265 - acc: 0.8831 - val_loss: 0.3498 - val_acc: 0.9083\n",
      "Epoch 6/30\n",
      "585/585 [============================>.] - ETA: 0s - loss: 0.3585 - acc: 0.8999\n",
      "Epoch 00006: val_acc improved from 0.90828 to 0.92424, saving model to /content/drive/My Drive/DLCP/telugu_script/tdigits_model.h5\n",
      "586/585 [==============================] - 77s 131ms/step - loss: 0.3585 - acc: 0.8999 - val_loss: 0.2901 - val_acc: 0.9242\n",
      "Epoch 7/30\n",
      "585/585 [============================>.] - ETA: 0s - loss: 0.3090 - acc: 0.9116\n",
      "Epoch 00007: val_acc improved from 0.92424 to 0.93600, saving model to /content/drive/My Drive/DLCP/telugu_script/tdigits_model.h5\n",
      "586/585 [==============================] - 75s 129ms/step - loss: 0.3089 - acc: 0.9116 - val_loss: 0.2468 - val_acc: 0.9360\n",
      "Epoch 8/30\n",
      "585/585 [============================>.] - ETA: 0s - loss: 0.2658 - acc: 0.9228\n",
      "Epoch 00008: val_acc improved from 0.93600 to 0.94628, saving model to /content/drive/My Drive/DLCP/telugu_script/tdigits_model.h5\n",
      "586/585 [==============================] - 76s 129ms/step - loss: 0.2657 - acc: 0.9229 - val_loss: 0.2097 - val_acc: 0.9463\n",
      "Epoch 9/30\n",
      "585/585 [============================>.] - ETA: 0s - loss: 0.2318 - acc: 0.9331\n",
      "Epoch 00009: val_acc improved from 0.94628 to 0.95272, saving model to /content/drive/My Drive/DLCP/telugu_script/tdigits_model.h5\n",
      "586/585 [==============================] - 77s 131ms/step - loss: 0.2318 - acc: 0.9331 - val_loss: 0.1815 - val_acc: 0.9527\n",
      "Epoch 10/30\n",
      "585/585 [============================>.] - ETA: 0s - loss: 0.2050 - acc: 0.9397\n",
      "Epoch 00010: val_acc improved from 0.95272 to 0.95564, saving model to /content/drive/My Drive/DLCP/telugu_script/tdigits_model.h5\n",
      "586/585 [==============================] - 75s 128ms/step - loss: 0.2050 - acc: 0.9397 - val_loss: 0.1594 - val_acc: 0.9556\n",
      "Epoch 11/30\n",
      "585/585 [============================>.] - ETA: 0s - loss: 0.1787 - acc: 0.9474\n",
      "Epoch 00011: val_acc did not improve from 0.95564\n",
      "586/585 [==============================] - 76s 129ms/step - loss: 0.1786 - acc: 0.9475 - val_loss: 0.1499 - val_acc: 0.9542\n",
      "Epoch 12/30\n",
      "585/585 [============================>.] - ETA: 0s - loss: 0.1614 - acc: 0.9511\n",
      "Epoch 00012: val_acc improved from 0.95564 to 0.95736, saving model to /content/drive/My Drive/DLCP/telugu_script/tdigits_model.h5\n",
      "586/585 [==============================] - 76s 130ms/step - loss: 0.1615 - acc: 0.9511 - val_loss: 0.1437 - val_acc: 0.9574\n",
      "Epoch 13/30\n",
      "585/585 [============================>.] - ETA: 0s - loss: 0.1450 - acc: 0.9549\n",
      "Epoch 00013: val_acc improved from 0.95736 to 0.96692, saving model to /content/drive/My Drive/DLCP/telugu_script/tdigits_model.h5\n",
      "586/585 [==============================] - 89s 152ms/step - loss: 0.1449 - acc: 0.9549 - val_loss: 0.1125 - val_acc: 0.9669\n",
      "Epoch 14/30\n",
      "585/585 [============================>.] - ETA: 0s - loss: 0.1313 - acc: 0.9585\n",
      "Epoch 00014: val_acc improved from 0.96692 to 0.96868, saving model to /content/drive/My Drive/DLCP/telugu_script/tdigits_model.h5\n",
      "586/585 [==============================] - 76s 129ms/step - loss: 0.1313 - acc: 0.9584 - val_loss: 0.1010 - val_acc: 0.9687\n",
      "Epoch 15/30\n",
      "585/585 [============================>.] - ETA: 0s - loss: 0.1224 - acc: 0.9611\n",
      "Epoch 00015: val_acc improved from 0.96868 to 0.97044, saving model to /content/drive/My Drive/DLCP/telugu_script/tdigits_model.h5\n",
      "586/585 [==============================] - 75s 128ms/step - loss: 0.1225 - acc: 0.9611 - val_loss: 0.0947 - val_acc: 0.9704\n",
      "Epoch 16/30\n",
      "585/585 [============================>.] - ETA: 0s - loss: 0.1126 - acc: 0.9634\n",
      "Epoch 00016: val_acc improved from 0.97044 to 0.97560, saving model to /content/drive/My Drive/DLCP/telugu_script/tdigits_model.h5\n",
      "586/585 [==============================] - 75s 128ms/step - loss: 0.1126 - acc: 0.9634 - val_loss: 0.0809 - val_acc: 0.9756\n",
      "Epoch 17/30\n",
      "585/585 [============================>.] - ETA: 0s - loss: 0.1054 - acc: 0.9653\n",
      "Epoch 00017: val_acc did not improve from 0.97560\n",
      "586/585 [==============================] - 75s 127ms/step - loss: 0.1053 - acc: 0.9653 - val_loss: 0.0916 - val_acc: 0.9705\n",
      "Epoch 00017: early stopping\n"
     ]
    }
   ],
   "source": [
    "checkpint = tf.keras.callbacks.ModelCheckpoint(filepath=\"/content/drive/My Drive/DLCP/telugu_script/tdigits_model.h5\",save_best_only=True,verbose=1,monitor=\"val_acc\",mode=\"max\")\n",
    "stoperly = tf.keras.callbacks.EarlyStopping(monitor=\"val_loss\",mode=\"auto\",verbose=1)\n",
    "callbaklist = [checkpint,stoperly]\n",
    "# model_history = model.fit(X_train_m3,trainy,validation_data=(X_test_m3,testy),epochs=10,batch_size=128,callbacks=callbaklist)\n",
    "model_history = model.fit_generator(train_image_gen.flow(X_train, Y_train, batch_size=batch_size),validation_data=test_image_gen.flow(X_test, Y_test, batch_size=batch_size),\n",
    "                    steps_per_epoch=len(X_train) / batch_size,validation_steps=len(X_test)/batch_size, epochs = 30,verbose = 1,callbacks=callbaklist)"
   ]
  },
  {
   "cell_type": "code",
   "execution_count": 19,
   "metadata": {
    "colab": {
     "base_uri": "https://localhost:8080/",
     "height": 503
    },
    "colab_type": "code",
    "id": "wZJZDFWk0YKo",
    "outputId": "d26d9782-4e84-4cae-bc66-6a6bde14baa7"
   },
   "outputs": [
    {
     "data": {
      "text/plain": [
       "<matplotlib.legend.Legend at 0x7f45f028ca20>"
      ]
     },
     "execution_count": 19,
     "metadata": {
      "tags": []
     },
     "output_type": "execute_result"
    },
    {
     "data": {
      "image/png": "[encoded data removed]",
      "text/plain": [
       "<Figure size 576x576 with 1 Axes>"
      ]
     },
     "metadata": {
      "tags": []
     },
     "output_type": "display_data"
    }
   ],
   "source": [
    "# plot train and test loss\n",
    "fig, ax = plt.subplots(figsize=(8, 8))\n",
    "ax.plot(model_history.history[\"loss\"])\n",
    "ax.legend(\"loss\")\n",
    "ax.plot(model_history.history[\"val_loss\"])\n",
    "ax.legend(\"val_loss\")"
   ]
  },
  {
   "cell_type": "code",
   "execution_count": 20,
   "metadata": {
    "colab": {
     "base_uri": "https://localhost:8080/",
     "height": 503
    },
    "colab_type": "code",
    "id": "1MsmpdES0eC-",
    "outputId": "e256903d-8edc-4eff-81d9-70c60e608602"
   },
   "outputs": [
    {
     "data": {
      "text/plain": [
       "<matplotlib.legend.Legend at 0x7f45f89b2ac8>"
      ]
     },
     "execution_count": 20,
     "metadata": {
      "tags": []
     },
     "output_type": "execute_result"
    },
    {
     "data": {
      "image/png": "[encoded data removed]",
      "text/plain": [
       "<Figure size 576x576 with 1 Axes>"
      ]
     },
     "metadata": {
      "tags": []
     },
     "output_type": "display_data"
    }
   ],
   "source": [
    "# plot train and test accuracy\n",
    "fig, ax = plt.subplots(figsize=(8, 8))\n",
    "ax.plot(model_history.history[\"acc\"])\n",
    "ax.legend(\"acc\")\n",
    "ax.plot(model_history.history[\"val_acc\"])\n",
    "ax.legend(\"val_acc\")"
   ]
  },
  {
   "cell_type": "code",
   "execution_count": 21,
   "metadata": {
    "colab": {
     "base_uri": "https://localhost:8080/",
     "height": 51
    },
    "colab_type": "code",
    "id": "zwM4CGFhc9NX",
    "outputId": "c05fcc8e-5393-4518-f0ab-6a26b5554d4e"
   },
   "outputs": [
    {
     "name": "stdout",
     "output_type": "stream",
     "text": [
      "Test loss: 0.08662786245422095\n",
      "Test accuracy: 0.97176\n"
     ]
    }
   ],
   "source": [
    "# predict test accuracy\n",
    "scores = model.evaluate(test_image_gen.flow(X_test, Y_test, batch_size=batch_size), verbose=0)\n",
    "print('Test loss:', scores[0])\n",
    "print('Test accuracy:', scores[1])"
   ]
  },
  {
   "cell_type": "code",
   "execution_count": 0,
   "metadata": {
    "colab": {},
    "colab_type": "code",
    "id": "0NIggEPPYnxJ"
   },
   "outputs": [],
   "source": [
    "# make a prediction using test-time augmentation\n",
    "def tta_prediction(datagen, model, image, n_examples):\n",
    "\t# convert image into dataset\n",
    "\tsamples = expand_dims(image, 0)\n",
    "\t# prepare iterator\n",
    "\tit = datagen.flow(samples, batch_size=n_examples)\n",
    "\t# make predictions for each augmented image\n",
    "\tyhats = model.predict_generator(it, steps=n_examples, verbose=0)\n",
    "\t# sum across predictions\n",
    "\tsummed = np.sum(yhats, axis=0)\n",
    "\t# argmax across classes\n",
    "\treturn np.argmax(summed)"
   ]
  },
  {
   "cell_type": "code",
   "execution_count": 23,
   "metadata": {
    "colab": {
     "base_uri": "https://localhost:8080/",
     "height": 357
    },
    "colab_type": "code",
    "id": "KjKDlgRCdGio",
    "outputId": "fea3ea97-ae67-46c9-8ff9-2f5e312d486a"
   },
   "outputs": [
    {
     "name": "stdout",
     "output_type": "stream",
     "text": [
      "truth: 0\n",
      "prediction: 0\n",
      "truth: 8\n",
      "prediction: 8\n",
      "truth: 1\n",
      "prediction: 1\n",
      "truth: 2\n",
      "prediction: 2\n",
      "truth: 0\n",
      "prediction: 0\n",
      "truth: 5\n",
      "prediction: 5\n",
      "truth: 0\n",
      "prediction: 0\n",
      "truth: 9\n",
      "prediction: 9\n",
      "truth: 3\n",
      "prediction: 3\n",
      "truth: 3\n",
      "prediction: 3\n"
     ]
    }
   ],
   "source": [
    "# plot and print model prediciton \n",
    "#plt.figure(figsize=(10, 1))\n",
    "for index in np.random.choice(25000,10):\n",
    "    img = X_test[index]\n",
    "    # plt.subplot(1,10,index+1)\n",
    "    # plt.imshow(img,cmap=\"gray\")\n",
    "    # plt.axis(\"off\")\n",
    "    print(\"truth:\",np.argmax(Y_test[index]))\n",
    "    pred = tta_prediction(train_image_gen,model,img,7)\n",
    "    print(\"prediction:\",pred)"
   ]
  },
  {
   "cell_type": "code",
   "execution_count": 0,
   "metadata": {
    "colab": {},
    "colab_type": "code",
    "id": "vdJD1O6uKXWO"
   },
   "outputs": [],
   "source": [
    "# from keras.models import load_model\n",
    "# model = load_model('model.h5')\n",
    "# model.load_weights('/content/drive/My Drive/DLCP/model.h5')\n",
    "# pred = model.predict(X_test_m3[467].reshape(1,28,28,1))\n",
    "\n",
    "# plt.figure(figsize=(10, 1))\n",
    "# for index in np.random.choice(25000,10):\n",
    "#     img = Image.open('data/' + str(index) + '.png').convert(\"L\")\n",
    "#     img = img.resize((28,28))\n",
    "#     im2arr = np.array(img)\n",
    "#     im2arr = X_test_m3[index]\n",
    "#     im2arr = im2arr.reshape(1,28,28,1)\n",
    "#     Predicting the Test set results\n",
    "#     y_pred = model.predict(im2arr,batch_size=128)"
   ]
  },
  {
   "cell_type": "code",
   "execution_count": 0,
   "metadata": {
    "colab": {},
    "colab_type": "code",
    "id": "DzKSfYgE5VWG"
   },
   "outputs": [],
   "source": []
  }
 ],
 "metadata": {
  "accelerator": "GPU",
  "colab": {
   "collapsed_sections": [],
   "name": "telugu_script_digits.ipynb",
   "provenance": []
  },
  "kernelspec": {
   "display_name": "Python 3",
   "language": "python",
   "name": "python3"
  },
  "language_info": {
   "codemirror_mode": {
    "name": "ipython",
    "version": 3
   },
   "file_extension": ".py",
   "mimetype": "text/x-python",
   "name": "python",
   "nbconvert_exporter": "python",
   "pygments_lexer": "ipython3",
   "version": "3.7.0"
  }
 },
 "nbformat": 4,
 "nbformat_minor": 1
}
