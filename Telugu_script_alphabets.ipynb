{
 "cells": [
  {
   "cell_type": "markdown",
   "metadata": {
    "colab_type": "text",
    "id": "uUjp5yraMXUP"
   },
   "source": [
    "## Telugu Script - Alphabets Recognition"
   ]
  },
  {
   "cell_type": "markdown",
   "metadata": {
    "colab_type": "text",
    "id": "c9eabH_ivbjd"
   },
   "source": [
    "https://en.wikipedia.org/wiki/Telugu_script"
   ]
  },
  {
   "cell_type": "markdown",
   "metadata": {
    "colab_type": "text",
    "id": "DGNXXdMmMndh"
   },
   "source": [
    "Telugu script, an abugida from the Brahmic family of scripts, is used to write the Telugu language, a Dravidian language spoken in the Indian states of Andhra Pradesh and Telangana as well as several other neighbouring states."
   ]
  },
  {
   "cell_type": "code",
   "execution_count": 1,
   "metadata": {
    "colab": {
     "base_uri": "https://localhost:8080/",
     "height": 34
    },
    "colab_type": "code",
    "id": "YaKAKU7yBWid",
    "outputId": "f09c8cdb-d2e6-4e80-d3c8-133b45144e3e"
   },
   "outputs": [
    {
     "name": "stdout",
     "output_type": "stream",
     "text": [
      "Drive already mounted at /content/drive; to attempt to forcibly remount, call drive.mount(\"/content/drive\", force_remount=True).\n"
     ]
    }
   ],
   "source": [
    "from google.colab import drive\n",
    "drive.mount('/content/drive')"
   ]
  },
  {
   "cell_type": "code",
   "execution_count": 2,
   "metadata": {
    "colab": {
     "base_uri": "https://localhost:8080/",
     "height": 34
    },
    "colab_type": "code",
    "id": "vAqnShVRAb8q",
    "outputId": "f01201c2-79ec-4417-e578-72a1929d089b"
   },
   "outputs": [
    {
     "name": "stderr",
     "output_type": "stream",
     "text": [
      "Using TensorFlow backend.\n"
     ]
    }
   ],
   "source": [
    "# Importing all necessary libraries \n",
    "from sklearn.model_selection import train_test_split\n",
    "from keras.models import Sequential,Model\n",
    "from keras.utils.np_utils import to_categorical\n",
    "from keras.preprocessing.image import ImageDataGenerator\n",
    "from sklearn.model_selection import train_test_split\n",
    "from sklearn.preprocessing import LabelEncoder\n",
    "from keras.models import Sequential\n",
    "from keras.layers import Dense, Dropout, Flatten,BatchNormalization,Input\n",
    "from keras.layers import Conv2D, MaxPooling2D\n",
    "from keras import backend as K\n",
    "from keras.layers import Activation, Dense\n",
    "from keras import optimizers\n",
    "from keras.layers import Flatten\n",
    "import tensorflow as tf\n",
    "import glob\n",
    "import os\n",
    "from PIL import Image\n",
    "import numpy as np\n",
    "import matplotlib.pyplot as plt\n",
    "%matplotlib inline\n",
    "from numpy import expand_dims"
   ]
  },
  {
   "cell_type": "code",
   "execution_count": 0,
   "metadata": {
    "colab": {},
    "colab_type": "code",
    "id": "cGqW47m9Ab85"
   },
   "outputs": [],
   "source": [
    "# get images from drive\n",
    "images = glob.glob(\"/content/drive/My Drive/DLCP/telugu_script/vowels\"+\"/*.png\") + glob.glob(\"/content/drive/My Drive/DLCP/telugu_script/consonants\"+\"/*.png\")"
   ]
  },
  {
   "cell_type": "code",
   "execution_count": 0,
   "metadata": {
    "colab": {},
    "colab_type": "code",
    "id": "_MJWIr7NAb9A"
   },
   "outputs": [],
   "source": [
    "# sort images \n",
    "images.sort()"
   ]
  },
  {
   "cell_type": "code",
   "execution_count": 5,
   "metadata": {
    "colab": {
     "base_uri": "https://localhost:8080/",
     "height": 935
    },
    "colab_type": "code",
    "id": "cXssBiwLAb9E",
    "outputId": "5c358c02-4f5b-4ac0-8c3d-5e6d215b5e2f"
   },
   "outputs": [
    {
     "data": {
      "text/plain": [
       "['/content/drive/My Drive/DLCP/telugu_script/consonants/ala.png',\n",
       " '/content/drive/My Drive/DLCP/telugu_script/consonants/anah.png',\n",
       " '/content/drive/My Drive/DLCP/telugu_script/consonants/ba.png',\n",
       " '/content/drive/My Drive/DLCP/telugu_script/consonants/bha.png',\n",
       " '/content/drive/My Drive/DLCP/telugu_script/consonants/cha.png',\n",
       " '/content/drive/My Drive/DLCP/telugu_script/consonants/chha.png',\n",
       " '/content/drive/My Drive/DLCP/telugu_script/consonants/da.png',\n",
       " '/content/drive/My Drive/DLCP/telugu_script/consonants/dda.png',\n",
       " '/content/drive/My Drive/DLCP/telugu_script/consonants/ddha.png',\n",
       " '/content/drive/My Drive/DLCP/telugu_script/consonants/dha.png',\n",
       " '/content/drive/My Drive/DLCP/telugu_script/consonants/ga.png',\n",
       " '/content/drive/My Drive/DLCP/telugu_script/consonants/gha.png',\n",
       " '/content/drive/My Drive/DLCP/telugu_script/consonants/ha.png',\n",
       " '/content/drive/My Drive/DLCP/telugu_script/consonants/ingya.png',\n",
       " '/content/drive/My Drive/DLCP/telugu_script/consonants/ja.png',\n",
       " '/content/drive/My Drive/DLCP/telugu_script/consonants/jha.png',\n",
       " '/content/drive/My Drive/DLCP/telugu_script/consonants/ka.png',\n",
       " '/content/drive/My Drive/DLCP/telugu_script/consonants/kha.png',\n",
       " '/content/drive/My Drive/DLCP/telugu_script/consonants/la.png',\n",
       " '/content/drive/My Drive/DLCP/telugu_script/consonants/ma.png',\n",
       " '/content/drive/My Drive/DLCP/telugu_script/consonants/na.png',\n",
       " '/content/drive/My Drive/DLCP/telugu_script/consonants/ngya.png',\n",
       " '/content/drive/My Drive/DLCP/telugu_script/consonants/pa.png',\n",
       " '/content/drive/My Drive/DLCP/telugu_script/consonants/pha.png',\n",
       " '/content/drive/My Drive/DLCP/telugu_script/consonants/ra.png',\n",
       " '/content/drive/My Drive/DLCP/telugu_script/consonants/raw.png',\n",
       " '/content/drive/My Drive/DLCP/telugu_script/consonants/sa.png',\n",
       " '/content/drive/My Drive/DLCP/telugu_script/consonants/sha.png',\n",
       " '/content/drive/My Drive/DLCP/telugu_script/consonants/shha.png',\n",
       " '/content/drive/My Drive/DLCP/telugu_script/consonants/ta.png',\n",
       " '/content/drive/My Drive/DLCP/telugu_script/consonants/tha.png',\n",
       " '/content/drive/My Drive/DLCP/telugu_script/consonants/thha.png',\n",
       " '/content/drive/My Drive/DLCP/telugu_script/consonants/tta.png',\n",
       " '/content/drive/My Drive/DLCP/telugu_script/consonants/va.png',\n",
       " '/content/drive/My Drive/DLCP/telugu_script/consonants/ya.png',\n",
       " '/content/drive/My Drive/DLCP/telugu_script/vowels/a.png',\n",
       " '/content/drive/My Drive/DLCP/telugu_script/vowels/aa.png',\n",
       " '/content/drive/My Drive/DLCP/telugu_script/vowels/ah.png',\n",
       " '/content/drive/My Drive/DLCP/telugu_script/vowels/ai.png',\n",
       " '/content/drive/My Drive/DLCP/telugu_script/vowels/alu.png',\n",
       " '/content/drive/My Drive/DLCP/telugu_script/vowels/aluu.png',\n",
       " '/content/drive/My Drive/DLCP/telugu_script/vowels/am.png',\n",
       " '/content/drive/My Drive/DLCP/telugu_script/vowels/an.png',\n",
       " '/content/drive/My Drive/DLCP/telugu_script/vowels/au.png',\n",
       " '/content/drive/My Drive/DLCP/telugu_script/vowels/e.png',\n",
       " '/content/drive/My Drive/DLCP/telugu_script/vowels/ee.png',\n",
       " '/content/drive/My Drive/DLCP/telugu_script/vowels/i.png',\n",
       " '/content/drive/My Drive/DLCP/telugu_script/vowels/ii.png',\n",
       " '/content/drive/My Drive/DLCP/telugu_script/vowels/o.png',\n",
       " '/content/drive/My Drive/DLCP/telugu_script/vowels/oo.png',\n",
       " '/content/drive/My Drive/DLCP/telugu_script/vowels/ru.png',\n",
       " '/content/drive/My Drive/DLCP/telugu_script/vowels/ruu.png',\n",
       " '/content/drive/My Drive/DLCP/telugu_script/vowels/u.png',\n",
       " '/content/drive/My Drive/DLCP/telugu_script/vowels/uu.png']"
      ]
     },
     "execution_count": 5,
     "metadata": {
      "tags": []
     },
     "output_type": "execute_result"
    }
   ],
   "source": [
    "images"
   ]
  },
  {
   "cell_type": "code",
   "execution_count": 6,
   "metadata": {
    "colab": {
     "base_uri": "https://localhost:8080/",
     "height": 34
    },
    "colab_type": "code",
    "id": "dY-Ot4gcLIbL",
    "outputId": "3f351018-c433-4a08-989f-04279543b504"
   },
   "outputs": [
    {
     "data": {
      "text/plain": [
       "54"
      ]
     },
     "execution_count": 6,
     "metadata": {
      "tags": []
     },
     "output_type": "execute_result"
    }
   ],
   "source": [
    "len(images)"
   ]
  },
  {
   "cell_type": "code",
   "execution_count": 0,
   "metadata": {
    "colab": {},
    "colab_type": "code",
    "id": "-keGeXEvAb9I"
   },
   "outputs": [],
   "source": [
    "# convert images to grayscale and resize to 28X28\n",
    "images_array = []\n",
    "for img in images:\n",
    "    img = Image.open(img)\n",
    "    # img = img.convert('RGB')\n",
    "    img = img.convert('L')\n",
    "    img = img.resize((28,28), Image.ANTIALIAS)\n",
    "    images_array.append(np.array(img))\n",
    "images_array = np.array(images_array)"
   ]
  },
  {
   "cell_type": "code",
   "execution_count": 9,
   "metadata": {
    "colab": {
     "base_uri": "https://localhost:8080/",
     "height": 118
    },
    "colab_type": "code",
    "id": "-DnF0GlQAb9V",
    "outputId": "1bd27669-896e-4db8-d8a6-4b868df4dda3"
   },
   "outputs": [
    {
     "data": {
      "image/png": "[encoded data removed]",
      "text/plain": [
       "<Figure size 3888x72 with 54 Axes>"
      ]
     },
     "metadata": {
      "tags": []
     },
     "output_type": "display_data"
    }
   ],
   "source": [
    "# plot images\n",
    "plt.figure(figsize=(54, 1))\n",
    "for i in range(54):\n",
    "    plt.subplot(1,54,i+1)\n",
    "    plt.imshow(images_array[i],cmap=\"gray\")\n",
    "    plt.axis(\"off\")"
   ]
  },
  {
   "cell_type": "code",
   "execution_count": 0,
   "metadata": {
    "colab": {},
    "colab_type": "code",
    "id": "4Y51ecoYAb9c"
   },
   "outputs": [],
   "source": [
    "# create a large dataset with duplicates \n",
    "labels = []\n",
    "final_array = []\n",
    "labels_array = []\n",
    "for i,img in enumerate(images_array):\n",
    "    for j in range(10000):\n",
    "        final_array.append(img)\n",
    "        labels_array.append(os.path.basename(images[i])[:-4])\n",
    "final_array = np.array(final_array)\n",
    "labels_array = np.array(labels_array)"
   ]
  },
  {
   "cell_type": "code",
   "execution_count": 0,
   "metadata": {
    "colab": {},
    "colab_type": "code",
    "id": "EJaiN2RH0bPG"
   },
   "outputs": [],
   "source": [
    "# Label Encoding\n",
    "le = LabelEncoder()\n",
    "le.fit(labels_array)\n",
    "\n",
    "def encode(le, labels):\n",
    "    enc = le.transform(labels)\n",
    "    return tf.keras.utils.to_categorical(enc, num_classes=54)\n",
    "def decode(le, one_hot):\n",
    "    dec = np.argmax(one_hot,axis=1)\n",
    "    return le.inverse_transform(dec)"
   ]
  },
  {
   "cell_type": "code",
   "execution_count": 0,
   "metadata": {
    "colab": {},
    "colab_type": "code",
    "id": "XPUhkL4euJ6v"
   },
   "outputs": [],
   "source": [
    "labels_array_en = encode(le, labels_array)"
   ]
  },
  {
   "cell_type": "code",
   "execution_count": 0,
   "metadata": {
    "colab": {},
    "colab_type": "code",
    "id": "jZhY6oJvAb9t"
   },
   "outputs": [],
   "source": [
    "# split the dataset into train and test\n",
    "X_train,X_test,Y_train,Y_test = train_test_split(final_array,labels_array_en,shuffle=True)"
   ]
  },
  {
   "cell_type": "code",
   "execution_count": 0,
   "metadata": {
    "colab": {},
    "colab_type": "code",
    "id": "R5icTKlJAb9x"
   },
   "outputs": [],
   "source": [
    "# reshape to be [samples][width][height][channels]\n",
    "X_train = X_train.reshape((X_train.shape[0], 28, 28, 1)).astype('float32')\n",
    "X_test = X_test.reshape((X_test.shape[0], 28, 28, 1)).astype('float32')\n",
    "# X_train = trainX.reshape(-1,28,28,1)\n",
    "# X_test = testX.reshape(-1,28,28,1)\n",
    "\n",
    "# normalize inputs from 0-255 to 0-1\n",
    "X_train = X_train / 255\n",
    "X_test = X_test / 255"
   ]
  },
  {
   "cell_type": "code",
   "execution_count": 15,
   "metadata": {
    "colab": {
     "base_uri": "https://localhost:8080/",
     "height": 34
    },
    "colab_type": "code",
    "id": "aijVAzC8UmJg",
    "outputId": "d72fea27-1aba-415e-b8fa-4fcdb51c4928"
   },
   "outputs": [
    {
     "name": "stdout",
     "output_type": "stream",
     "text": [
      "(405000, 28, 28, 1) (135000, 28, 28, 1) (405000, 54) (135000, 54)\n"
     ]
    }
   ],
   "source": [
    "print(X_train.shape, X_test.shape, Y_train.shape, Y_test.shape)"
   ]
  },
  {
   "cell_type": "markdown",
   "metadata": {
    "colab_type": "text",
    "id": "gugWXryEck8V"
   },
   "source": [
    "## Image agumentation"
   ]
  },
  {
   "cell_type": "code",
   "execution_count": 16,
   "metadata": {
    "colab": {
     "base_uri": "https://localhost:8080/",
     "height": 71
    },
    "colab_type": "code",
    "id": "Ne_x6jq8aFCi",
    "outputId": "cdde062e-e9de-4f9a-b587-d2e0eef3aafc"
   },
   "outputs": [
    {
     "name": "stderr",
     "output_type": "stream",
     "text": [
      "/usr/local/lib/python3.6/dist-packages/keras_preprocessing/image/image_data_generator.py:341: UserWarning: This ImageDataGenerator specifies `zca_whitening` which overrides setting of`featurewise_std_normalization`.\n",
      "  warnings.warn('This ImageDataGenerator specifies '\n"
     ]
    }
   ],
   "source": [
    "train_image_gen = ImageDataGenerator(\n",
    "    featurewise_center=True,\n",
    "    featurewise_std_normalization=True,\n",
    "    zca_whitening=True,\n",
    "    rotation_range=90,\n",
    "    horizontal_flip=True, \n",
    "    vertical_flip=True,\n",
    "    # rescale=1./255,\n",
    "    width_shift_range=0.2,\n",
    "    height_shift_range=0.2)\n",
    "test_image_gen = ImageDataGenerator(\n",
    "    featurewise_center=True,\n",
    "    featurewise_std_normalization=True,\n",
    "    zca_whitening=True,\n",
    "    rotation_range=90,\n",
    "    horizontal_flip=True, \n",
    "    vertical_flip=True,\n",
    "    # rescale=1./255,\n",
    "    width_shift_range=0.2,\n",
    "    height_shift_range=0.2)\n",
    "\n",
    "train_image_gen.fit(X_train, augment=True)\n",
    "test_image_gen.fit(X_test, augment=True)"
   ]
  },
  {
   "cell_type": "code",
   "execution_count": 17,
   "metadata": {
    "colab": {
     "base_uri": "https://localhost:8080/",
     "height": 269
    },
    "colab_type": "code",
    "id": "tGq4CYq0Ab-F",
    "outputId": "602bb463-9445-44a8-9a93-40bbb8c77bcc"
   },
   "outputs": [
    {
     "data": {
      "image/png": "[encoded data removed]",
      "text/plain": [
       "<Figure size 432x288 with 9 Axes>"
      ]
     },
     "metadata": {
      "tags": []
     },
     "output_type": "display_data"
    }
   ],
   "source": [
    "# plot images\n",
    "for X_batch, y_batch in train_image_gen.flow(X_train, Y_train, batch_size=9):\n",
    "    # create a grid of 3x3 images\n",
    "    for i in range(0, 9):\n",
    "        plt.subplot(330 + 1 + i)\n",
    "        plt.imshow(X_batch[i].reshape(28, 28), cmap=plt.get_cmap('gray'))\n",
    "    # show the plot\n",
    "    plt.show()\n",
    "    break"
   ]
  },
  {
   "cell_type": "code",
   "execution_count": 0,
   "metadata": {
    "colab": {},
    "colab_type": "code",
    "id": "0aSxstldAb-K"
   },
   "outputs": [],
   "source": [
    "# lets set epochs and batch_size values\n",
    "epochs = 10\n",
    "batch_size = 128"
   ]
  },
  {
   "cell_type": "markdown",
   "metadata": {
    "colab_type": "text",
    "id": "tsaKyciRbTcV"
   },
   "source": [
    "## CNN"
   ]
  },
  {
   "cell_type": "code",
   "execution_count": 19,
   "metadata": {
    "colab": {
     "base_uri": "https://localhost:8080/",
     "height": 632
    },
    "colab_type": "code",
    "id": "6HhJwC0_nz-x",
    "outputId": "e87e2905-203d-494d-b771-f19585ee289f"
   },
   "outputs": [
    {
     "name": "stdout",
     "output_type": "stream",
     "text": [
      "WARNING:tensorflow:From /usr/local/lib/python3.6/dist-packages/tensorflow/python/ops/init_ops.py:1251: calling VarianceScaling.__init__ (from tensorflow.python.ops.init_ops) with dtype is deprecated and will be removed in a future version.\n",
      "Instructions for updating:\n",
      "Call initializer instance with the dtype argument instead of passing it to the constructor\n",
      "Model: \"sequential\"\n",
      "_________________________________________________________________\n",
      "Layer (type)                 Output Shape              Param #   \n",
      "=================================================================\n",
      "conv2d (Conv2D)              (None, 28, 28, 32)        832       \n",
      "_________________________________________________________________\n",
      "conv2d_1 (Conv2D)            (None, 28, 28, 32)        25632     \n",
      "_________________________________________________________________\n",
      "max_pooling2d (MaxPooling2D) (None, 14, 14, 32)        0         \n",
      "_________________________________________________________________\n",
      "dropout (Dropout)            (None, 14, 14, 32)        0         \n",
      "_________________________________________________________________\n",
      "conv2d_2 (Conv2D)            (None, 14, 14, 64)        18496     \n",
      "_________________________________________________________________\n",
      "conv2d_3 (Conv2D)            (None, 14, 14, 64)        36928     \n",
      "_________________________________________________________________\n",
      "max_pooling2d_1 (MaxPooling2 (None, 7, 7, 64)          0         \n",
      "_________________________________________________________________\n",
      "dropout_1 (Dropout)          (None, 7, 7, 64)          0         \n",
      "_________________________________________________________________\n",
      "flatten (Flatten)            (None, 3136)              0         \n",
      "_________________________________________________________________\n",
      "dense (Dense)                (None, 256)               803072    \n",
      "_________________________________________________________________\n",
      "dropout_2 (Dropout)          (None, 256)               0         \n",
      "_________________________________________________________________\n",
      "dense_1 (Dense)              (None, 54)                13878     \n",
      "=================================================================\n",
      "Total params: 898,838\n",
      "Trainable params: 898,838\n",
      "Non-trainable params: 0\n",
      "_________________________________________________________________\n"
     ]
    }
   ],
   "source": [
    "model = tf.keras.models.Sequential()\n",
    "\n",
    "model.add(tf.keras.layers.Conv2D(filters = 32, kernel_size = (5,5),padding = 'Same', \n",
    "                 activation ='relu', input_shape = (28,28,1)))\n",
    "model.add(tf.keras.layers.Conv2D(filters = 32, kernel_size = (5,5),padding = 'Same', \n",
    "                 activation ='relu'))\n",
    "model.add(tf.keras.layers.MaxPool2D(pool_size=(2,2)))\n",
    "model.add(tf.keras.layers.Dropout(0.25))\n",
    "\n",
    "\n",
    "model.add(tf.keras.layers.Conv2D(filters = 64, kernel_size = (3,3),padding = 'Same', \n",
    "                 activation ='relu'))\n",
    "model.add(tf.keras.layers.Conv2D(filters = 64, kernel_size = (3,3),padding = 'Same', \n",
    "                 activation ='relu'))\n",
    "model.add(tf.keras.layers.MaxPool2D(pool_size=(2,2), strides=(2,2)))\n",
    "model.add(tf.keras.layers.Dropout(0.25))\n",
    "\n",
    "\n",
    "model.add(tf.keras.layers.Flatten())\n",
    "model.add(tf.keras.layers.Dense(256, activation = \"relu\"))\n",
    "model.add(tf.keras.layers.Dropout(0.5))\n",
    "model.add(tf.keras.layers.Dense(54, activation = \"softmax\"))\n",
    "model.summary()"
   ]
  },
  {
   "cell_type": "code",
   "execution_count": 0,
   "metadata": {
    "colab": {},
    "colab_type": "code",
    "id": "ap2roeumAb-Q"
   },
   "outputs": [],
   "source": [
    "# Build CNN\n",
    "# Define the optimizer\n",
    "optimizer = tf.keras.optimizers.RMSprop(lr=0.001, rho=0.9, epsilon=1e-08, decay=0.0)\n",
    "model.compile(loss='categorical_crossentropy', optimizer=optimizer, metrics=['accuracy'])"
   ]
  },
  {
   "cell_type": "code",
   "execution_count": 21,
   "metadata": {
    "colab": {
     "base_uri": "https://localhost:8080/",
     "height": 374
    },
    "colab_type": "code",
    "id": "K8ZHj52DLkzZ",
    "outputId": "499374bf-9656-4f84-f1cf-4b97957928c7"
   },
   "outputs": [
    {
     "name": "stdout",
     "output_type": "stream",
     "text": [
      "Epoch 1/30\n",
      "3164/3164 [============================>.] - ETA: 0s - loss: 1.1503 - acc: 0.6377\n",
      "Epoch 00001: val_acc improved from -inf to 0.96660, saving model to /content/drive/My Drive/DLCP/telugu_script/talphabets_model.h5\n",
      "3165/3164 [==============================] - 442s 140ms/step - loss: 1.1501 - acc: 0.6378 - val_loss: 0.1000 - val_acc: 0.9666\n",
      "Epoch 2/30\n",
      "3164/3164 [============================>.] - ETA: 0s - loss: 0.2088 - acc: 0.9324\n",
      "Epoch 00002: val_acc improved from 0.96660 to 0.99848, saving model to /content/drive/My Drive/DLCP/telugu_script/talphabets_model.h5\n",
      "3165/3164 [==============================] - 442s 140ms/step - loss: 0.2087 - acc: 0.9324 - val_loss: 0.0074 - val_acc: 0.9985\n",
      "Epoch 3/30\n",
      "3164/3164 [============================>.] - ETA: 0s - loss: 0.1289 - acc: 0.9623\n",
      "Epoch 00003: val_acc did not improve from 0.99848\n",
      "3165/3164 [==============================] - 439s 139ms/step - loss: 0.1289 - acc: 0.9623 - val_loss: 0.0064 - val_acc: 0.9983\n",
      "Epoch 4/30\n",
      "3164/3164 [============================>.] - ETA: 0s - loss: 0.1143 - acc: 0.9692\n",
      "Epoch 00004: val_acc improved from 0.99848 to 0.99915, saving model to /content/drive/My Drive/DLCP/telugu_script/talphabets_model.h5\n",
      "3165/3164 [==============================] - 445s 141ms/step - loss: 0.1143 - acc: 0.9692 - val_loss: 0.0032 - val_acc: 0.9991\n",
      "Epoch 5/30\n",
      "3164/3164 [============================>.] - ETA: 0s - loss: 0.1210 - acc: 0.9710\n",
      "Epoch 00005: val_acc did not improve from 0.99915\n",
      "3165/3164 [==============================] - 442s 140ms/step - loss: 0.1209 - acc: 0.9710 - val_loss: 0.0048 - val_acc: 0.9987\n",
      "Epoch 00005: early stopping\n"
     ]
    }
   ],
   "source": [
    "checkpint = tf.keras.callbacks.ModelCheckpoint(filepath=\"/content/drive/My Drive/DLCP/telugu_script/talphabets_model.h5\",save_best_only=True,verbose=1,monitor=\"val_acc\",mode=\"max\")\n",
    "stoperly = tf.keras.callbacks.EarlyStopping(monitor=\"val_loss\",mode=\"auto\",verbose=1)\n",
    "callbaklist = [checkpint,stoperly]\n",
    "# model_history = model.fit(X_train_m3,trainy,validation_data=(X_test_m3,testy),epochs=10,batch_size=128,callbacks=callbaklist)\n",
    "model_history = model.fit_generator(train_image_gen.flow(X_train, Y_train, batch_size=batch_size),validation_data=test_image_gen.flow(X_test, Y_test, batch_size=batch_size),\n",
    "                    steps_per_epoch=len(X_train) / batch_size,validation_steps=len(X_test)/batch_size, epochs = 30,verbose = 1,callbacks=callbaklist)"
   ]
  },
  {
   "cell_type": "code",
   "execution_count": 22,
   "metadata": {
    "colab": {
     "base_uri": "https://localhost:8080/",
     "height": 503
    },
    "colab_type": "code",
    "id": "wZJZDFWk0YKo",
    "outputId": "6d7f022d-3a01-493f-a510-711b6ef3bfc4"
   },
   "outputs": [
    {
     "data": {
      "text/plain": [
       "<matplotlib.legend.Legend at 0x7fcdb0c67cf8>"
      ]
     },
     "execution_count": 22,
     "metadata": {
      "tags": []
     },
     "output_type": "execute_result"
    },
    {
     "data": {
      "image/png": "[encoded data removed]",
      "text/plain": [
       "<Figure size 576x576 with 1 Axes>"
      ]
     },
     "metadata": {
      "tags": []
     },
     "output_type": "display_data"
    }
   ],
   "source": [
    "# plot train and test loss\n",
    "fig, ax = plt.subplots(figsize=(8, 8))\n",
    "ax.plot(model_history.history[\"loss\"])\n",
    "ax.legend(\"loss\")\n",
    "ax.plot(model_history.history[\"val_loss\"])\n",
    "ax.legend(\"val_loss\")"
   ]
  },
  {
   "cell_type": "code",
   "execution_count": 23,
   "metadata": {
    "colab": {
     "base_uri": "https://localhost:8080/",
     "height": 503
    },
    "colab_type": "code",
    "id": "1MsmpdES0eC-",
    "outputId": "d97d9504-cae4-4d7e-fbc0-849cc59c38c6"
   },
   "outputs": [
    {
     "data": {
      "text/plain": [
       "<matplotlib.legend.Legend at 0x7fcdb0b01d68>"
      ]
     },
     "execution_count": 23,
     "metadata": {
      "tags": []
     },
     "output_type": "execute_result"
    },
    {
     "data": {
      "image/png": "[encoded data removed]",
      "text/plain": [
       "<Figure size 576x576 with 1 Axes>"
      ]
     },
     "metadata": {
      "tags": []
     },
     "output_type": "display_data"
    }
   ],
   "source": [
    "# plot train and test accuracy\n",
    "fig, ax = plt.subplots(figsize=(8, 8))\n",
    "ax.plot(model_history.history[\"acc\"])\n",
    "ax.legend(\"acc\")\n",
    "ax.plot(model_history.history[\"val_acc\"])\n",
    "ax.legend(\"val_acc\")"
   ]
  },
  {
   "cell_type": "code",
   "execution_count": 24,
   "metadata": {
    "colab": {
     "base_uri": "https://localhost:8080/",
     "height": 51
    },
    "colab_type": "code",
    "id": "zwM4CGFhc9NX",
    "outputId": "da20f714-a267-4e11-d999-015c27f7b6c6"
   },
   "outputs": [
    {
     "name": "stdout",
     "output_type": "stream",
     "text": [
      "Test loss: 0.004903744342134823\n",
      "Test accuracy: 0.9986445\n"
     ]
    }
   ],
   "source": [
    "# predict test accuracy\n",
    "scores = model.evaluate(test_image_gen.flow(X_test, Y_test, batch_size=batch_size), verbose=0)\n",
    "print('Test loss:', scores[0])\n",
    "print('Test accuracy:', scores[1])"
   ]
  },
  {
   "cell_type": "code",
   "execution_count": 0,
   "metadata": {
    "colab": {},
    "colab_type": "code",
    "id": "0NIggEPPYnxJ"
   },
   "outputs": [],
   "source": [
    "# make a prediction using test-time augmentation\n",
    "def tta_prediction(datagen, model, image, n_examples):\n",
    "\t# convert image into dataset\n",
    "\tsamples = expand_dims(image, 0)\n",
    "\t# prepare iterator\n",
    "\tit = datagen.flow(samples, batch_size=n_examples)\n",
    "\t# make predictions for each augmented image\n",
    "\tyhats = model.predict_generator(it, steps=n_examples, verbose=0)\n",
    "\t# sum across predictions\n",
    "\tsummed = np.sum(yhats, axis=0)\n",
    "\t# argmax across classes\n",
    "\treturn summed"
   ]
  },
  {
   "cell_type": "code",
   "execution_count": 26,
   "metadata": {
    "colab": {
     "base_uri": "https://localhost:8080/",
     "height": 357
    },
    "colab_type": "code",
    "id": "KjKDlgRCdGio",
    "outputId": "119565bf-7288-4ccc-944b-becbe6898445"
   },
   "outputs": [
    {
     "name": "stdout",
     "output_type": "stream",
     "text": [
      "truth: ['gha']\n",
      "prediction: ['gha']\n",
      "truth: ['au']\n",
      "prediction: ['au']\n",
      "truth: ['da']\n",
      "prediction: ['da']\n",
      "truth: ['o']\n",
      "prediction: ['o']\n",
      "truth: ['e']\n",
      "prediction: ['e']\n",
      "truth: ['am']\n",
      "prediction: ['am']\n",
      "truth: ['aa']\n",
      "prediction: ['aa']\n",
      "truth: ['aa']\n",
      "prediction: ['aa']\n",
      "truth: ['uu']\n",
      "prediction: ['uu']\n",
      "truth: ['uu']\n",
      "prediction: ['uu']\n"
     ]
    }
   ],
   "source": [
    "# plot and print model prediciton \n",
    "#plt.figure(figsize=(10, 1))\n",
    "for index in np.random.choice(25000,10):\n",
    "    img = X_test[index]\n",
    "    # plt.subplot(1,10,index+1)\n",
    "    # plt.imshow(img,cmap=\"gray\")\n",
    "    # plt.axis(\"off\")\n",
    "    print(\"truth:\",decode(le,[Y_test[index]]))\n",
    "    pred = tta_prediction(test_image_gen,model,img,7)\n",
    "    print(\"prediction:\",decode(le,[pred]))"
   ]
  },
  {
   "cell_type": "code",
   "execution_count": 0,
   "metadata": {
    "colab": {},
    "colab_type": "code",
    "id": "vdJD1O6uKXWO"
   },
   "outputs": [],
   "source": [
    "# from keras.models import load_model\n",
    "# model = load_model('model.h5')\n",
    "# model.load_weights('/content/drive/My Drive/DLCP/model.h5')\n",
    "# pred = model.predict(X_test_m3[467].reshape(1,28,28,1))\n",
    "\n",
    "# plt.figure(figsize=(10, 1))\n",
    "# for index in np.random.choice(25000,10):\n",
    "#     img = Image.open('data/' + str(index) + '.png').convert(\"L\")\n",
    "#     img = img.resize((28,28))\n",
    "#     im2arr = np.array(img)\n",
    "#     im2arr = X_test_m3[index]\n",
    "#     im2arr = im2arr.reshape(1,28,28,1)\n",
    "#     Predicting the Test set results\n",
    "#     y_pred = model.predict(im2arr,batch_size=128)"
   ]
  },
  {
   "cell_type": "code",
   "execution_count": 0,
   "metadata": {
    "colab": {},
    "colab_type": "code",
    "id": "p4I44HW3uFcR"
   },
   "outputs": [],
   "source": []
  }
 ],
 "metadata": {
  "accelerator": "GPU",
  "colab": {
   "collapsed_sections": [],
   "name": "Telugu_script_alphabets.ipynb",
   "provenance": []
  },
  "kernelspec": {
   "display_name": "Python 3",
   "language": "python",
   "name": "python3"
  },
  "language_info": {
   "codemirror_mode": {
    "name": "ipython",
    "version": 3
   },
   "file_extension": ".py",
   "mimetype": "text/x-python",
   "name": "python",
   "nbconvert_exporter": "python",
   "pygments_lexer": "ipython3",
   "version": "3.7.0"
  }
 },
 "nbformat": 4,
 "nbformat_minor": 1
}
